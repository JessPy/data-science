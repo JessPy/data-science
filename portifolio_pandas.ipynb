{
  "cells": [
    {
      "cell_type": "markdown",
      "metadata": {
        "id": "mrDR31nGEDBz"
      },
      "source": [
        "# Obtençao dos dados"
      ]
    },
    {
      "cell_type": "code",
      "execution_count": 1,
      "metadata": {
        "id": "A6QVRunDI5wz"
      },
      "outputs": [],
      "source": [
        "# Imports\n",
        "import pandas as pd\n",
        "import matplotlib.pyplot as plt\n",
        "\n",
        "# Graph style\n",
        "plt.style.use(\"seaborn-v0_8\")"
      ]
    },
    {
      "cell_type": "code",
      "execution_count": 5,
      "metadata": {
        "id": "ky38iUAanWLy"
      },
      "outputs": [],
      "source": [
        "# Importing AdventureWorks sheet into a DataFrame\n",
        "df = pd.read_excel(\"AdventureWorks.xlsx\")"
      ]
    },
    {
      "cell_type": "markdown",
      "metadata": {
        "id": "vlC6_V3NgVAu"
      },
      "source": [
        "# Análise dos Dados"
      ]
    },
    {
      "cell_type": "markdown",
      "metadata": {
        "id": "ToOdm3vIoWJs"
      },
      "source": [
        "**Variable dictionary**\n",
        "\n",
        "* `Data Venda`-\n",
        "* `Data Envio`-\n",
        "* `ID Loja`-\n",
        "* `ID Produto`-\n",
        "* `ID Cliente`-\n",
        "* `No. Cliente`-\n",
        "* `Custo Unitário`-\n",
        "* `Preço Unitário`-\n",
        "* `Quantidade`-\n",
        "* `Valor Desconto`-\n",
        "* `Valor Venda`-\n",
        "* `Produto`-\n",
        "* `Fabricante`-  \n",
        "* `Marca`-\n",
        "* `Classe`-\n",
        "* `Cor`-"
      ]
    },
    {
      "cell_type": "markdown",
      "metadata": {
        "id": "A0xvygQ8pqpF"
      },
      "source": [
        "## Q1. Quantos atributos o conjunto de dados possui? Quais os tipos dessas variáveis?\n"
      ]
    },
    {
      "cell_type": "code",
      "execution_count": 12,
      "metadata": {
        "colab": {
          "base_uri": "https://localhost:8080/"
        },
        "id": "OfnNM4WrqATX",
        "outputId": "51a02de9-dcc6-4970-d009-d04c5f1ff58c"
      },
      "outputs": [
        {
          "name": "stdout",
          "output_type": "stream",
          "text": [
            "Variables: 16\n",
            "Entries: 903\n"
          ]
        }
      ],
      "source": [
        "print(f\"Variables: {df.shape[1]}\")\n",
        "print(f\"Entries: {df.shape[0]-1}\")"
      ]
    },
    {
      "cell_type": "code",
      "execution_count": 17,
      "metadata": {
        "colab": {
          "base_uri": "https://localhost:8080/"
        },
        "id": "APxaQaqMr0M4",
        "outputId": "9fe27e98-e9aa-4f65-8578-b8dbac3ca7eb"
      },
      "outputs": [
        {
          "data": {
            "text/plain": [
              "Data Venda        datetime64[ns]\n",
              "Data Envio        datetime64[ns]\n",
              "ID Loja                    int64\n",
              "ID Produto                 int64\n",
              "ID Cliente                 int64\n",
              "No. Venda                 object\n",
              "Custo Unitário           float64\n",
              "Preço Unitário           float64\n",
              "Quantidade                 int64\n",
              "Valor Desconto           float64\n",
              "Valor Venda              float64\n",
              "Produto                   object\n",
              "Fabricante                object\n",
              "Marca                     object\n",
              "Classe                    object\n",
              "Cor                       object\n",
              "dtype: object"
            ]
          },
          "execution_count": 17,
          "metadata": {},
          "output_type": "execute_result"
        }
      ],
      "source": [
        "# Verify the data type\n",
        "df.dtypes"
      ]
    },
    {
      "cell_type": "markdown",
      "metadata": {
        "id": "fk8i1KvSsDVY"
      },
      "source": [
        "Número da venda é tratado como object, pois não será realizado nenhuma análise estatística em cima da variável por ser uma identificação unica"
      ]
    },
    {
      "cell_type": "markdown",
      "metadata": {
        "id": "vCTRfyHusiGM"
      },
      "source": [
        "## Q2. Qual a qualidade do DataFrame de acordo com os valores ausentes ou nulos"
      ]
    },
    {
      "cell_type": "markdown",
      "metadata": {
        "id": "35EvZWdIuOut"
      },
      "source": [
        "### Limpando outliers"
      ]
    },
    {
      "cell_type": "markdown",
      "metadata": {
        "id": "lmLaUgPNv9wG"
      },
      "source": [
        "## Quantas linhas e colunas tem o DataFrame?\n",
        "\n"
      ]
    },
    {
      "cell_type": "markdown",
      "metadata": {},
      "source": [
        "## Qual é o custo total dos produtos?\n"
      ]
    },
    {
      "cell_type": "markdown",
      "metadata": {},
      "source": [
        "## Qual é o lucro total?\n",
        "\n"
      ]
    },
    {
      "cell_type": "markdown",
      "metadata": {},
      "source": [
        "## Qual é a média de tempo de envio dos produtos?\n",
        "\n"
      ]
    },
    {
      "cell_type": "markdown",
      "metadata": {},
      "source": [
        "## Quantos produtos de cada tipo foram vendidos, apresentando os resultados de forma decrescente?\n"
      ]
    },
    {
      "cell_type": "markdown",
      "metadata": {},
      "source": [
        "## Qual foi o lucro total por marca?\n",
        "\n"
      ]
    },
    {
      "cell_type": "markdown",
      "metadata": {},
      "source": [
        "## Quais são os anos em que houve vendas e qual foi o lucro total em cada um desses anos?\n",
        "\n"
      ]
    },
    {
      "cell_type": "markdown",
      "metadata": {},
      "source": [
        "## Qual foi o lucro total no ano de 2019 por mês?\n",
        "\n"
      ]
    },
    {
      "cell_type": "markdown",
      "metadata": {},
      "source": [
        "## Qual marca trouxe mais lucro?\n",
        "\n",
        "\n"
      ]
    },
    {
      "cell_type": "markdown",
      "metadata": {},
      "source": [
        "## Descreva estatisticamente a coluna 'Tempo_envio' (mínimo, máximo, média, mediana, quartis, etc.).\n",
        "\n",
        "\n"
      ]
    },
    {
      "cell_type": "markdown",
      "metadata": {},
      "source": [
        "## Visualize graficamente a distribuição do tempo de envio utilizando um boxplot.\n",
        "\n"
      ]
    },
    {
      "cell_type": "markdown",
      "metadata": {},
      "source": [
        "## Apresente um histograma do tempo de envio.\n",
        "\n"
      ]
    },
    {
      "cell_type": "markdown",
      "metadata": {},
      "source": [
        "## Qual foi o tempo mínimo e máximo de envio?"
      ]
    },
    {
      "cell_type": "markdown",
      "metadata": {},
      "source": [
        "## Identifique algum outlier no tempo de envio e apresente suas características."
      ]
    }
  ],
  "metadata": {
    "colab": {
      "provenance": []
    },
    "kernelspec": {
      "display_name": "Python 3",
      "name": "python3"
    },
    "language_info": {
      "name": "python"
    }
  },
  "nbformat": 4,
  "nbformat_minor": 0
}
